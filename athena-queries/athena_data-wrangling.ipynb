{
 "cells": [
  {
   "cell_type": "markdown",
   "id": "c836e0fd-5e86-4a15-9c8c-12b279104462",
   "metadata": {},
   "source": [
    "# Data Wrangling Notebook\n",
    "\n",
    "This notebook was used as a testing and development environment for the queries used in building the lambda functions"
   ]
  },
  {
   "cell_type": "code",
   "execution_count": 4,
   "id": "fdc3ab34-fc25-442c-80fe-d4f79c9988b5",
   "metadata": {},
   "outputs": [],
   "source": [
    "import time\n",
    "from datetime import date\n",
    "import boto3\n",
    "import asyncio\n",
    "import config"
   ]
  },
  {
   "cell_type": "code",
   "execution_count": 8,
   "id": "a7c2a8fc-1c9c-478f-b109-452b073b1ba2",
   "metadata": {},
   "outputs": [],
   "source": [
    "today = date.today()\n",
    "client = boto3.client(\n",
    "    'athena',\n",
    "    aws_access_key_id = config.aws_access_key_id,\n",
    "    aws_secret_access_key = config.aws_secret_access_key,\n",
    "    region_name = 'us-east-1'\n",
    ")\n",
    "\n",
    "DATABASE = 'devflows_partner_feeds_pipeline'\n",
    "select_output = 's3://totogi-marketplace-partner-feeds/athena-query-outputs/client-telco-select/'\n",
    "totogi_output='s3://totogi-marketplace-partner-feeds/daily-telco-notification-totogi/{}/{:02d}/daily-notification-for-{}/'.format(today.year, today.month, today)"
   ]
  },
  {
   "cell_type": "code",
   "execution_count": 9,
   "id": "e4ca2f32-d496-4492-8c85-82b2ebb187db",
   "metadata": {},
   "outputs": [],
   "source": [
    "query = '''SELECT DISTINCT tenantname \n",
    "            FROM \"devflows_partner_feeds_pipeline\".\"common_commission_table\" '''"
   ]
  },
  {
   "cell_type": "code",
   "execution_count": 28,
   "id": "1be11947-4890-4405-8ee2-dca371a36698",
   "metadata": {},
   "outputs": [],
   "source": [
    "query2 = '''SELECT DISTINCT offerid FROM \"devflows_partner_feeds_pipeline\".\"activationlink_refreshed\" limit 10'''"
   ]
  },
  {
   "cell_type": "code",
   "execution_count": 11,
   "id": "77082bef-c06e-4a1f-9a4e-aaa5fd20427c",
   "metadata": {},
   "outputs": [],
   "source": [
    "response = client.start_query_execution(\n",
    "        QueryString=query,\n",
    "        QueryExecutionContext={\n",
    "            'Database': DATABASE\n",
    "        },\n",
    "        ResultConfiguration={\n",
    "            'OutputLocation': select_output,\n",
    "            'EncryptionConfiguration': {\n",
    "                'EncryptionOption': 'SSE_S3'\n",
    "            }\n",
    "        }\n",
    "    )"
   ]
  },
  {
   "cell_type": "code",
   "execution_count": 17,
   "id": "c2c0e948-31f4-4334-98ca-477aaf39f474",
   "metadata": {},
   "outputs": [
    {
     "data": {
      "text/plain": [
       "{'QueryExecutionId': '0e8348ee-79a4-4ace-9689-94f82fd86c48',\n",
       " 'ResponseMetadata': {'RequestId': '8d3d7faf-f2c8-4e2c-962f-199ab45621ca',\n",
       "  'HTTPStatusCode': 200,\n",
       "  'HTTPHeaders': {'content-type': 'application/x-amz-json-1.1',\n",
       "   'date': 'Tue, 08 Mar 2022 23:55:27 GMT',\n",
       "   'x-amzn-requestid': '8d3d7faf-f2c8-4e2c-962f-199ab45621ca',\n",
       "   'content-length': '59',\n",
       "   'connection': 'keep-alive'},\n",
       "  'RetryAttempts': 0}}"
      ]
     },
     "execution_count": 17,
     "metadata": {},
     "output_type": "execute_result"
    }
   ],
   "source": [
    "response"
   ]
  },
  {
   "cell_type": "code",
   "execution_count": 16,
   "id": "c2a5d93c-9984-4344-90ef-4e164f3681e0",
   "metadata": {},
   "outputs": [],
   "source": [
    "execution_id = response['QueryExecutionId']"
   ]
  },
  {
   "cell_type": "code",
   "execution_count": 18,
   "id": "ec4f0005-19bb-468b-84da-e3b9210f1567",
   "metadata": {},
   "outputs": [
    {
     "data": {
      "text/plain": [
       "{'UpdateCount': 0,\n",
       " 'ResultSet': {'Rows': [{'Data': [{'VarCharValue': 'tenantname'}]},\n",
       "   {'Data': [{'VarCharValue': 'Totogi'}]}],\n",
       "  'ResultSetMetadata': {'ColumnInfo': [{'CatalogName': 'hive',\n",
       "     'SchemaName': '',\n",
       "     'TableName': '',\n",
       "     'Name': 'tenantname',\n",
       "     'Label': 'tenantname',\n",
       "     'Type': 'varchar',\n",
       "     'Precision': 2147483647,\n",
       "     'Scale': 0,\n",
       "     'Nullable': 'UNKNOWN',\n",
       "     'CaseSensitive': True}]}},\n",
       " 'ResponseMetadata': {'RequestId': '02d3b583-f137-4f70-8052-f11849970c82',\n",
       "  'HTTPStatusCode': 200,\n",
       "  'HTTPHeaders': {'content-type': 'application/x-amz-json-1.1',\n",
       "   'date': 'Tue, 08 Mar 2022 23:59:55 GMT',\n",
       "   'x-amzn-requestid': '02d3b583-f137-4f70-8052-f11849970c82',\n",
       "   'content-length': '604',\n",
       "   'connection': 'keep-alive'},\n",
       "  'RetryAttempts': 0}}"
      ]
     },
     "execution_count": 18,
     "metadata": {},
     "output_type": "execute_result"
    }
   ],
   "source": [
    "results = client.get_query_results(\n",
    "    QueryExecutionId=execution_id,\n",
    "    )\n",
    "results"
   ]
  },
  {
   "cell_type": "code",
   "execution_count": 43,
   "id": "f904bb0e-fae4-4118-b119-25c2b98f3fbc",
   "metadata": {},
   "outputs": [
    {
     "data": {
      "text/plain": [
       "[{'Data': [{'VarCharValue': 'Totogi'}]}]"
      ]
     },
     "execution_count": 43,
     "metadata": {},
     "output_type": "execute_result"
    }
   ],
   "source": [
    "result_set = results['ResultSet']['Rows'][1:]\n",
    "result_set"
   ]
  },
  {
   "cell_type": "code",
   "execution_count": 44,
   "id": "225eba69-9407-4c99-b13d-16efa23c3cd3",
   "metadata": {},
   "outputs": [
    {
     "name": "stdout",
     "output_type": "stream",
     "text": [
      "Totogi\n"
     ]
    }
   ],
   "source": [
    "result_list = []\n",
    "for d in result_set:\n",
    "    value = d['Data'][0]['VarCharValue']\n",
    "    print(value)\n",
    "    result_list.append(value)"
   ]
  },
  {
   "cell_type": "code",
   "execution_count": 45,
   "id": "b488f444-f8c2-4e24-a08b-f554614342aa",
   "metadata": {},
   "outputs": [
    {
     "data": {
      "text/plain": [
       "['Totogi']"
      ]
     },
     "execution_count": 45,
     "metadata": {},
     "output_type": "execute_result"
    }
   ],
   "source": [
    "result_list"
   ]
  },
  {
   "cell_type": "code",
   "execution_count": null,
   "id": "973a376b-981f-4fdf-b9fa-a1804febb918",
   "metadata": {},
   "outputs": [],
   "source": []
  },
  {
   "cell_type": "code",
   "execution_count": null,
   "id": "db17efa4-ad93-4430-8c6e-3451cbe265f0",
   "metadata": {},
   "outputs": [],
   "source": []
  },
  {
   "cell_type": "code",
   "execution_count": null,
   "id": "5a49505b-3c65-4370-a458-f265e35a9df3",
   "metadata": {},
   "outputs": [],
   "source": []
  },
  {
   "cell_type": "code",
   "execution_count": 29,
   "id": "6b9cb126-ba2e-41ca-b519-82d0dbc6c31e",
   "metadata": {},
   "outputs": [],
   "source": [
    "response2 = client.start_query_execution(\n",
    "        QueryString=query2,\n",
    "        QueryExecutionContext={\n",
    "            'Database': DATABASE\n",
    "        },\n",
    "        ResultConfiguration={\n",
    "            'OutputLocation': select_output,\n",
    "            'EncryptionConfiguration': {\n",
    "                'EncryptionOption': 'SSE_S3'\n",
    "            }\n",
    "        }\n",
    "    )"
   ]
  },
  {
   "cell_type": "code",
   "execution_count": 30,
   "id": "271819e9-7339-4e0d-b1da-9c635d006c89",
   "metadata": {},
   "outputs": [
    {
     "data": {
      "text/plain": [
       "{'QueryExecutionId': '60e5b479-7b94-43ec-8856-03e42dbcf7a5',\n",
       " 'ResponseMetadata': {'RequestId': '363e6050-2380-4f60-a384-9faa99e3f199',\n",
       "  'HTTPStatusCode': 200,\n",
       "  'HTTPHeaders': {'content-type': 'application/x-amz-json-1.1',\n",
       "   'date': 'Wed, 09 Mar 2022 00:08:26 GMT',\n",
       "   'x-amzn-requestid': '363e6050-2380-4f60-a384-9faa99e3f199',\n",
       "   'content-length': '59',\n",
       "   'connection': 'keep-alive'},\n",
       "  'RetryAttempts': 0}}"
      ]
     },
     "execution_count": 30,
     "metadata": {},
     "output_type": "execute_result"
    }
   ],
   "source": [
    "response2"
   ]
  },
  {
   "cell_type": "code",
   "execution_count": 31,
   "id": "a9f2d605-ed60-4d25-bd3c-ffc969d3f6e4",
   "metadata": {},
   "outputs": [],
   "source": [
    "execution_id2 = response2['QueryExecutionId']"
   ]
  },
  {
   "cell_type": "code",
   "execution_count": 32,
   "id": "42a65c7e-5b3d-49fa-b21b-ade95e597a03",
   "metadata": {},
   "outputs": [
    {
     "data": {
      "text/plain": [
       "{'UpdateCount': 0,\n",
       " 'ResultSet': {'Rows': [{'Data': [{'VarCharValue': 'offerid'}]},\n",
       "   {'Data': [{'VarCharValue': 'N34Vxy8v'}]},\n",
       "   {'Data': [{'VarCharValue': 'euYen8dU'}]},\n",
       "   {'Data': [{'VarCharValue': 'VY5A2T6W'}]},\n",
       "   {'Data': [{'VarCharValue': 'Udx9TJrq'}]},\n",
       "   {'Data': [{'VarCharValue': 'Kw7p12zp'}]}],\n",
       "  'ResultSetMetadata': {'ColumnInfo': [{'CatalogName': 'hive',\n",
       "     'SchemaName': '',\n",
       "     'TableName': '',\n",
       "     'Name': 'offerid',\n",
       "     'Label': 'offerid',\n",
       "     'Type': 'varchar',\n",
       "     'Precision': 2147483647,\n",
       "     'Scale': 0,\n",
       "     'Nullable': 'UNKNOWN',\n",
       "     'CaseSensitive': True}]}},\n",
       " 'ResponseMetadata': {'RequestId': '193a7b74-25f7-4c0d-9879-61d561cc291a',\n",
       "  'HTTPStatusCode': 200,\n",
       "  'HTTPHeaders': {'content-type': 'application/x-amz-json-1.1',\n",
       "   'date': 'Wed, 09 Mar 2022 00:09:49 GMT',\n",
       "   'x-amzn-requestid': '193a7b74-25f7-4c0d-9879-61d561cc291a',\n",
       "   'content-length': '834',\n",
       "   'connection': 'keep-alive'},\n",
       "  'RetryAttempts': 0}}"
      ]
     },
     "execution_count": 32,
     "metadata": {},
     "output_type": "execute_result"
    }
   ],
   "source": [
    "results2 = client.get_query_results(\n",
    "    QueryExecutionId=execution_id2,\n",
    "    )\n",
    "results2"
   ]
  },
  {
   "cell_type": "code",
   "execution_count": 36,
   "id": "e1536b0e-6cba-4ef4-8e83-bdc21a0720f4",
   "metadata": {},
   "outputs": [
    {
     "data": {
      "text/plain": [
       "[{'Data': [{'VarCharValue': 'N34Vxy8v'}]},\n",
       " {'Data': [{'VarCharValue': 'euYen8dU'}]},\n",
       " {'Data': [{'VarCharValue': 'VY5A2T6W'}]},\n",
       " {'Data': [{'VarCharValue': 'Udx9TJrq'}]},\n",
       " {'Data': [{'VarCharValue': 'Kw7p12zp'}]}]"
      ]
     },
     "execution_count": 36,
     "metadata": {},
     "output_type": "execute_result"
    }
   ],
   "source": [
    "result_set2 = results2['ResultSet']['Rows'][1:]\n",
    "result_set2"
   ]
  },
  {
   "cell_type": "code",
   "execution_count": 41,
   "id": "37fc6e91-6910-4725-978c-438f810a2336",
   "metadata": {},
   "outputs": [
    {
     "name": "stdout",
     "output_type": "stream",
     "text": [
      "N34Vxy8v\n",
      "euYen8dU\n",
      "VY5A2T6W\n",
      "Udx9TJrq\n",
      "Kw7p12zp\n"
     ]
    }
   ],
   "source": [
    "result_list = []\n",
    "for d in result_set2:\n",
    "    value = d['Data'][0]['VarCharValue']\n",
    "    print(value)\n",
    "    result_list.append(value)"
   ]
  },
  {
   "cell_type": "code",
   "execution_count": 42,
   "id": "8fbf7b10-556a-4c20-8c73-ccc7f780a725",
   "metadata": {},
   "outputs": [
    {
     "data": {
      "text/plain": [
       "['N34Vxy8v', 'euYen8dU', 'VY5A2T6W', 'Udx9TJrq', 'Kw7p12zp']"
      ]
     },
     "execution_count": 42,
     "metadata": {},
     "output_type": "execute_result"
    }
   ],
   "source": [
    "result_list"
   ]
  },
  {
   "cell_type": "code",
   "execution_count": 71,
   "id": "c7e29d0a-cbad-4c8f-a9d6-77a7d9f077fa",
   "metadata": {},
   "outputs": [],
   "source": [
    "def create_offer_list():\n",
    "    query = '''SELECT DISTINCT offerid FROM \"devflows_partner_feeds_pipeline\".\"activationlink_refreshed\" limit 10'''\n",
    "            \n",
    "    response = client.start_query_execution(\n",
    "        QueryString=query,\n",
    "        QueryExecutionContext={\n",
    "            'Database': DATABASE\n",
    "        },\n",
    "        ResultConfiguration={\n",
    "            'OutputLocation': select_output,\n",
    "            'EncryptionConfiguration': {\n",
    "                'EncryptionOption': 'SSE_S3'\n",
    "            }\n",
    "        }\n",
    "    )\n",
    "    execution_id = response['QueryExecutionId']\n",
    "    time.sleep(2.5)\n",
    "    results = client.get_query_results(\n",
    "    QueryExecutionId=execution_id,\n",
    "    )\n",
    "    result_set = results['ResultSet']['Rows'][1:]\n",
    "    result_list = []\n",
    "    for d in result_set:\n",
    "        value = d['Data'][0]['VarCharValue']\n",
    "        print(value)\n",
    "        result_list.append(value)\n",
    "    return result_list"
   ]
  },
  {
   "cell_type": "code",
   "execution_count": 72,
   "id": "dbddd941-f8a1-45fd-8d10-3abab8a95b30",
   "metadata": {},
   "outputs": [
    {
     "name": "stdout",
     "output_type": "stream",
     "text": [
      "N34Vxy8v\n",
      "euYen8dU\n",
      "Kw7p12zp\n",
      "VY5A2T6W\n",
      "Udx9TJrq\n"
     ]
    }
   ],
   "source": [
    "result_list = create_offer_list()"
   ]
  },
  {
   "cell_type": "code",
   "execution_count": 54,
   "id": "b026280b-c7eb-4056-b2c2-a306e6eef344",
   "metadata": {},
   "outputs": [
    {
     "data": {
      "text/plain": [
       "['VY5A2T6W', 'N34Vxy8v', 'euYen8dU', 'Udx9TJrq', 'Kw7p12zp']"
      ]
     },
     "execution_count": 54,
     "metadata": {},
     "output_type": "execute_result"
    }
   ],
   "source": [
    "result_list"
   ]
  },
  {
   "cell_type": "code",
   "execution_count": 83,
   "id": "b424dd6f-f108-4de9-b90b-03d403455c44",
   "metadata": {},
   "outputs": [],
   "source": [
    "def lambda_handler(result_list):\n",
    "    result_list = create_offer_list()\n",
    "    response_dict = {}\n",
    "    for result in result_list:\n",
    "        query = f'''SELECT * FROM \"devflows_partner_feeds_pipeline\".\"activationlink_refreshed\" WHERE offerid = '{result}' limit 10'''\n",
    "        response = client.start_query_execution(\n",
    "            QueryString=query,\n",
    "            QueryExecutionContext={\n",
    "                'Database': DATABASE\n",
    "            },\n",
    "            ResultConfiguration={\n",
    "                'OutputLocation': select_output,\n",
    "                'EncryptionConfiguration': {\n",
    "                'EncryptionOption': 'SSE_S3'\n",
    "                }\n",
    "            }\n",
    "        )\n",
    "        response_dict[result] = response\n",
    "    return response_dict"
   ]
  },
  {
   "cell_type": "code",
   "execution_count": 84,
   "id": "73b0f552-eba3-458f-93e1-6a2a45009feb",
   "metadata": {},
   "outputs": [
    {
     "name": "stdout",
     "output_type": "stream",
     "text": [
      "euYen8dU\n",
      "VY5A2T6W\n",
      "N34Vxy8v\n",
      "Udx9TJrq\n",
      "Kw7p12zp\n"
     ]
    },
    {
     "data": {
      "text/plain": [
       "{'euYen8dU': {'QueryExecutionId': 'b11c1c03-5e85-4f47-affe-84709e187b09',\n",
       "  'ResponseMetadata': {'RequestId': '2cd90775-3180-40f3-8663-fd7fb11679f6',\n",
       "   'HTTPStatusCode': 200,\n",
       "   'HTTPHeaders': {'content-type': 'application/x-amz-json-1.1',\n",
       "    'date': 'Wed, 09 Mar 2022 01:11:59 GMT',\n",
       "    'x-amzn-requestid': '2cd90775-3180-40f3-8663-fd7fb11679f6',\n",
       "    'content-length': '59',\n",
       "    'connection': 'keep-alive'},\n",
       "   'RetryAttempts': 0}},\n",
       " 'VY5A2T6W': {'QueryExecutionId': 'c1eb5fdb-1621-4892-a8be-fd5b93e5dcf0',\n",
       "  'ResponseMetadata': {'RequestId': '5c091f6c-cd76-45cd-8c2d-842b55044cfe',\n",
       "   'HTTPStatusCode': 200,\n",
       "   'HTTPHeaders': {'content-type': 'application/x-amz-json-1.1',\n",
       "    'date': 'Wed, 09 Mar 2022 01:12:00 GMT',\n",
       "    'x-amzn-requestid': '5c091f6c-cd76-45cd-8c2d-842b55044cfe',\n",
       "    'content-length': '59',\n",
       "    'connection': 'keep-alive'},\n",
       "   'RetryAttempts': 0}},\n",
       " 'N34Vxy8v': {'QueryExecutionId': 'fdc61cba-016d-4795-9434-fd44de0067a4',\n",
       "  'ResponseMetadata': {'RequestId': '19a1ad4f-6f55-428d-9d52-39ac032419cf',\n",
       "   'HTTPStatusCode': 200,\n",
       "   'HTTPHeaders': {'content-type': 'application/x-amz-json-1.1',\n",
       "    'date': 'Wed, 09 Mar 2022 01:11:59 GMT',\n",
       "    'x-amzn-requestid': '19a1ad4f-6f55-428d-9d52-39ac032419cf',\n",
       "    'content-length': '59',\n",
       "    'connection': 'keep-alive'},\n",
       "   'RetryAttempts': 0}},\n",
       " 'Udx9TJrq': {'QueryExecutionId': 'f227714a-26ae-4002-891a-c7db1ac2b8d1',\n",
       "  'ResponseMetadata': {'RequestId': '00f83d57-3d82-45d0-b9af-232f8608011a',\n",
       "   'HTTPStatusCode': 200,\n",
       "   'HTTPHeaders': {'content-type': 'application/x-amz-json-1.1',\n",
       "    'date': 'Wed, 09 Mar 2022 01:12:00 GMT',\n",
       "    'x-amzn-requestid': '00f83d57-3d82-45d0-b9af-232f8608011a',\n",
       "    'content-length': '59',\n",
       "    'connection': 'keep-alive'},\n",
       "   'RetryAttempts': 0}},\n",
       " 'Kw7p12zp': {'QueryExecutionId': '2a588df9-b2f2-4a89-b4b9-52df5a77bafd',\n",
       "  'ResponseMetadata': {'RequestId': 'f2b50565-3b60-46d9-b86c-bfc52f1a8e4d',\n",
       "   'HTTPStatusCode': 200,\n",
       "   'HTTPHeaders': {'content-type': 'application/x-amz-json-1.1',\n",
       "    'date': 'Wed, 09 Mar 2022 01:12:00 GMT',\n",
       "    'x-amzn-requestid': 'f2b50565-3b60-46d9-b86c-bfc52f1a8e4d',\n",
       "    'content-length': '59',\n",
       "    'connection': 'keep-alive'},\n",
       "   'RetryAttempts': 0}}}"
      ]
     },
     "execution_count": 84,
     "metadata": {},
     "output_type": "execute_result"
    }
   ],
   "source": [
    "lambda_handler(result_list)"
   ]
  },
  {
   "cell_type": "code",
   "execution_count": null,
   "id": "00c575c7-d425-40b2-ad30-06433281eff5",
   "metadata": {},
   "outputs": [],
   "source": []
  },
  {
   "cell_type": "code",
   "execution_count": null,
   "id": "be9117a6-eba1-4588-b215-437cd7d96470",
   "metadata": {},
   "outputs": [],
   "source": []
  }
 ],
 "metadata": {
  "kernelspec": {
   "display_name": "Python 3 (ipykernel)",
   "language": "python",
   "name": "python3"
  },
  "language_info": {
   "codemirror_mode": {
    "name": "ipython",
    "version": 3
   },
   "file_extension": ".py",
   "mimetype": "text/x-python",
   "name": "python",
   "nbconvert_exporter": "python",
   "pygments_lexer": "ipython3",
   "version": "3.8.10"
  }
 },
 "nbformat": 4,
 "nbformat_minor": 5
}
